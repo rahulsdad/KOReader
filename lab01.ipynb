{
  "cells": [
    {
      "cell_type": "markdown",
      "metadata": {
        "id": "view-in-github",
        "colab_type": "text"
      },
      "source": [
        "<a href=\"https://colab.research.google.com/github/rahulsdad/KOReader/blob/main/lab01.ipynb\" target=\"_parent\"><img src=\"https://colab.research.google.com/assets/colab-badge.svg\" alt=\"Open In Colab\"/></a>"
      ]
    },
    {
      "cell_type": "code",
      "execution_count": 1,
      "metadata": {
        "tags": [
          "remove-cell"
        ],
        "id": "XgRt06u0SN_-"
      },
      "outputs": [],
      "source": [
        "# This code sets up display options, imports, etc.\n",
        "import numpy as np\n",
        "import matplotlib.pyplot as plt\n",
        "import pandas as pd\n",
        "import seaborn as sns\n",
        "from matplotlib_inline.backend_inline import set_matplotlib_formats\n",
        "\n",
        "import plotly.express as px\n",
        "import plotly.io as pio\n",
        "\n",
        "# set up plotting defaults\n",
        "%matplotlib inline\n",
        "set_matplotlib_formats(\"svg\")\n",
        "sns.set_style(\"whitegrid\")\n",
        "plt.rcParams[\"figure.figsize\"] = (4, 3)\n",
        "pio.templates.default = \"simple_white\"\n",
        "\n",
        "# display options for numpy and pandas\n",
        "np.set_printoptions(threshold=20, precision=2, suppress=True)\n",
        "pd.set_option(\"display.max_rows\", 7)\n",
        "pd.set_option(\"display.max_columns\", 8)\n",
        "pd.set_option(\"display.precision\", 2)"
      ]
    },
    {
      "cell_type": "markdown",
      "metadata": {
        "id": "V8m0ICM5SN__"
      },
      "source": [
        "# Lab 1: Pandas and Data Cleaning\n",
        "\n",
        "**Data Science Bootcamp with Python, Pandas, and Plotly**"
      ]
    },
    {
      "cell_type": "markdown",
      "metadata": {
        "id": "ukI1L-ezSOAA"
      },
      "source": [
        "## Working with data tables in `pandas`"
      ]
    },
    {
      "cell_type": "markdown",
      "metadata": {
        "id": "lxk-OU2SSOAB"
      },
      "source": [
        "First, let's go over how to take notes."
      ]
    },
    {
      "cell_type": "code",
      "execution_count": 3,
      "metadata": {
        "id": "08FKjItySOAB"
      },
      "outputs": [],
      "source": [
        "# This is a code cell"
      ]
    },
    {
      "cell_type": "markdown",
      "metadata": {
        "id": "YTnHKY9O_kzd"
      },
      "source": [
        "### Subsetting and Filtering: NBA Salaries"
      ]
    },
    {
      "cell_type": "markdown",
      "source": [],
      "metadata": {
        "id": "rdTUgdbSUcHb"
      }
    },
    {
      "cell_type": "code",
      "execution_count": 5,
      "metadata": {
        "id": "XeKxBjPj_kze"
      },
      "outputs": [],
      "source": [
        "import pandas as pd\n",
        "import numpy as np"
      ]
    },
    {
      "cell_type": "markdown",
      "metadata": {
        "id": "zEpkhKhs_kze"
      },
      "source": [
        "Let's load in salaries for NBA players in the '21-'22 season."
      ]
    },
    {
      "cell_type": "code",
      "execution_count": 6,
      "metadata": {
        "colab": {
          "base_uri": "https://localhost:8080/",
          "height": 35
        },
        "id": "qvcVGfNH_kzf",
        "outputId": "606be951-88a2-4d87-b4fe-7baa5cb5ae2c"
      },
      "outputs": [
        {
          "output_type": "execute_result",
          "data": {
            "text/plain": [
              "'https://github.com/DS-100/textbook/blob/master/content/datasets/nba-2022.csv?raw=true'"
            ],
            "application/vnd.google.colaboratory.intrinsic+json": {
              "type": "string"
            }
          },
          "metadata": {},
          "execution_count": 6
        }
      ],
      "source": [
        "def data(csv):\n",
        "    return f'https://github.com/DS-100/textbook/blob/master/content/datasets/{csv}?raw=true'\n",
        "\n",
        "data('nba-2022.csv')"
      ]
    },
    {
      "cell_type": "code",
      "execution_count": 7,
      "metadata": {
        "colab": {
          "base_uri": "https://localhost:8080/",
          "height": 330
        },
        "id": "4SuxONYA_kzf",
        "outputId": "600170b7-f7aa-42d6-cff5-b7b1daa0034d"
      },
      "outputs": [
        {
          "output_type": "execute_result",
          "data": {
            "text/plain": [
              "                  Position                Team    Salary\n",
              "Player                                                  \n",
              "John Collins            PF       Atlanta Hawks  23000000\n",
              "Danilo Gallinari        PF       Atlanta Hawks  20475000\n",
              "Bogdan Bogdanović       SG       Atlanta Hawks  18000000\n",
              "...                    ...                 ...       ...\n",
              "Raul Neto               PG  Washington Wizards   2089448\n",
              "Daniel Gafford           C  Washington Wizards   1782621\n",
              "Anthony Gill            PF  Washington Wizards   1517981\n",
              "\n",
              "[381 rows x 3 columns]"
            ],
            "text/html": [
              "\n",
              "  <div id=\"df-8f1bde21-101d-4f61-b5ac-5284b152d8d3\" class=\"colab-df-container\">\n",
              "    <div>\n",
              "<style scoped>\n",
              "    .dataframe tbody tr th:only-of-type {\n",
              "        vertical-align: middle;\n",
              "    }\n",
              "\n",
              "    .dataframe tbody tr th {\n",
              "        vertical-align: top;\n",
              "    }\n",
              "\n",
              "    .dataframe thead th {\n",
              "        text-align: right;\n",
              "    }\n",
              "</style>\n",
              "<table border=\"1\" class=\"dataframe\">\n",
              "  <thead>\n",
              "    <tr style=\"text-align: right;\">\n",
              "      <th></th>\n",
              "      <th>Position</th>\n",
              "      <th>Team</th>\n",
              "      <th>Salary</th>\n",
              "    </tr>\n",
              "    <tr>\n",
              "      <th>Player</th>\n",
              "      <th></th>\n",
              "      <th></th>\n",
              "      <th></th>\n",
              "    </tr>\n",
              "  </thead>\n",
              "  <tbody>\n",
              "    <tr>\n",
              "      <th>John Collins</th>\n",
              "      <td>PF</td>\n",
              "      <td>Atlanta Hawks</td>\n",
              "      <td>23000000</td>\n",
              "    </tr>\n",
              "    <tr>\n",
              "      <th>Danilo Gallinari</th>\n",
              "      <td>PF</td>\n",
              "      <td>Atlanta Hawks</td>\n",
              "      <td>20475000</td>\n",
              "    </tr>\n",
              "    <tr>\n",
              "      <th>Bogdan Bogdanović</th>\n",
              "      <td>SG</td>\n",
              "      <td>Atlanta Hawks</td>\n",
              "      <td>18000000</td>\n",
              "    </tr>\n",
              "    <tr>\n",
              "      <th>...</th>\n",
              "      <td>...</td>\n",
              "      <td>...</td>\n",
              "      <td>...</td>\n",
              "    </tr>\n",
              "    <tr>\n",
              "      <th>Raul Neto</th>\n",
              "      <td>PG</td>\n",
              "      <td>Washington Wizards</td>\n",
              "      <td>2089448</td>\n",
              "    </tr>\n",
              "    <tr>\n",
              "      <th>Daniel Gafford</th>\n",
              "      <td>C</td>\n",
              "      <td>Washington Wizards</td>\n",
              "      <td>1782621</td>\n",
              "    </tr>\n",
              "    <tr>\n",
              "      <th>Anthony Gill</th>\n",
              "      <td>PF</td>\n",
              "      <td>Washington Wizards</td>\n",
              "      <td>1517981</td>\n",
              "    </tr>\n",
              "  </tbody>\n",
              "</table>\n",
              "<p>381 rows × 3 columns</p>\n",
              "</div>\n",
              "    <div class=\"colab-df-buttons\">\n",
              "\n",
              "  <div class=\"colab-df-container\">\n",
              "    <button class=\"colab-df-convert\" onclick=\"convertToInteractive('df-8f1bde21-101d-4f61-b5ac-5284b152d8d3')\"\n",
              "            title=\"Convert this dataframe to an interactive table.\"\n",
              "            style=\"display:none;\">\n",
              "\n",
              "  <svg xmlns=\"http://www.w3.org/2000/svg\" height=\"24px\" viewBox=\"0 -960 960 960\">\n",
              "    <path d=\"M120-120v-720h720v720H120Zm60-500h600v-160H180v160Zm220 220h160v-160H400v160Zm0 220h160v-160H400v160ZM180-400h160v-160H180v160Zm440 0h160v-160H620v160ZM180-180h160v-160H180v160Zm440 0h160v-160H620v160Z\"/>\n",
              "  </svg>\n",
              "    </button>\n",
              "\n",
              "  <style>\n",
              "    .colab-df-container {\n",
              "      display:flex;\n",
              "      gap: 12px;\n",
              "    }\n",
              "\n",
              "    .colab-df-convert {\n",
              "      background-color: #E8F0FE;\n",
              "      border: none;\n",
              "      border-radius: 50%;\n",
              "      cursor: pointer;\n",
              "      display: none;\n",
              "      fill: #1967D2;\n",
              "      height: 32px;\n",
              "      padding: 0 0 0 0;\n",
              "      width: 32px;\n",
              "    }\n",
              "\n",
              "    .colab-df-convert:hover {\n",
              "      background-color: #E2EBFA;\n",
              "      box-shadow: 0px 1px 2px rgba(60, 64, 67, 0.3), 0px 1px 3px 1px rgba(60, 64, 67, 0.15);\n",
              "      fill: #174EA6;\n",
              "    }\n",
              "\n",
              "    .colab-df-buttons div {\n",
              "      margin-bottom: 4px;\n",
              "    }\n",
              "\n",
              "    [theme=dark] .colab-df-convert {\n",
              "      background-color: #3B4455;\n",
              "      fill: #D2E3FC;\n",
              "    }\n",
              "\n",
              "    [theme=dark] .colab-df-convert:hover {\n",
              "      background-color: #434B5C;\n",
              "      box-shadow: 0px 1px 3px 1px rgba(0, 0, 0, 0.15);\n",
              "      filter: drop-shadow(0px 1px 2px rgba(0, 0, 0, 0.3));\n",
              "      fill: #FFFFFF;\n",
              "    }\n",
              "  </style>\n",
              "\n",
              "    <script>\n",
              "      const buttonEl =\n",
              "        document.querySelector('#df-8f1bde21-101d-4f61-b5ac-5284b152d8d3 button.colab-df-convert');\n",
              "      buttonEl.style.display =\n",
              "        google.colab.kernel.accessAllowed ? 'block' : 'none';\n",
              "\n",
              "      async function convertToInteractive(key) {\n",
              "        const element = document.querySelector('#df-8f1bde21-101d-4f61-b5ac-5284b152d8d3');\n",
              "        const dataTable =\n",
              "          await google.colab.kernel.invokeFunction('convertToInteractive',\n",
              "                                                    [key], {});\n",
              "        if (!dataTable) return;\n",
              "\n",
              "        const docLinkHtml = 'Like what you see? Visit the ' +\n",
              "          '<a target=\"_blank\" href=https://colab.research.google.com/notebooks/data_table.ipynb>data table notebook</a>'\n",
              "          + ' to learn more about interactive tables.';\n",
              "        element.innerHTML = '';\n",
              "        dataTable['output_type'] = 'display_data';\n",
              "        await google.colab.output.renderOutput(dataTable, element);\n",
              "        const docLink = document.createElement('div');\n",
              "        docLink.innerHTML = docLinkHtml;\n",
              "        element.appendChild(docLink);\n",
              "      }\n",
              "    </script>\n",
              "  </div>\n",
              "\n",
              "\n",
              "<div id=\"df-a5901f27-e252-40df-b03b-ce394128033b\">\n",
              "  <button class=\"colab-df-quickchart\" onclick=\"quickchart('df-a5901f27-e252-40df-b03b-ce394128033b')\"\n",
              "            title=\"Suggest charts\"\n",
              "            style=\"display:none;\">\n",
              "\n",
              "<svg xmlns=\"http://www.w3.org/2000/svg\" height=\"24px\"viewBox=\"0 0 24 24\"\n",
              "     width=\"24px\">\n",
              "    <g>\n",
              "        <path d=\"M19 3H5c-1.1 0-2 .9-2 2v14c0 1.1.9 2 2 2h14c1.1 0 2-.9 2-2V5c0-1.1-.9-2-2-2zM9 17H7v-7h2v7zm4 0h-2V7h2v10zm4 0h-2v-4h2v4z\"/>\n",
              "    </g>\n",
              "</svg>\n",
              "  </button>\n",
              "\n",
              "<style>\n",
              "  .colab-df-quickchart {\n",
              "      --bg-color: #E8F0FE;\n",
              "      --fill-color: #1967D2;\n",
              "      --hover-bg-color: #E2EBFA;\n",
              "      --hover-fill-color: #174EA6;\n",
              "      --disabled-fill-color: #AAA;\n",
              "      --disabled-bg-color: #DDD;\n",
              "  }\n",
              "\n",
              "  [theme=dark] .colab-df-quickchart {\n",
              "      --bg-color: #3B4455;\n",
              "      --fill-color: #D2E3FC;\n",
              "      --hover-bg-color: #434B5C;\n",
              "      --hover-fill-color: #FFFFFF;\n",
              "      --disabled-bg-color: #3B4455;\n",
              "      --disabled-fill-color: #666;\n",
              "  }\n",
              "\n",
              "  .colab-df-quickchart {\n",
              "    background-color: var(--bg-color);\n",
              "    border: none;\n",
              "    border-radius: 50%;\n",
              "    cursor: pointer;\n",
              "    display: none;\n",
              "    fill: var(--fill-color);\n",
              "    height: 32px;\n",
              "    padding: 0;\n",
              "    width: 32px;\n",
              "  }\n",
              "\n",
              "  .colab-df-quickchart:hover {\n",
              "    background-color: var(--hover-bg-color);\n",
              "    box-shadow: 0 1px 2px rgba(60, 64, 67, 0.3), 0 1px 3px 1px rgba(60, 64, 67, 0.15);\n",
              "    fill: var(--button-hover-fill-color);\n",
              "  }\n",
              "\n",
              "  .colab-df-quickchart-complete:disabled,\n",
              "  .colab-df-quickchart-complete:disabled:hover {\n",
              "    background-color: var(--disabled-bg-color);\n",
              "    fill: var(--disabled-fill-color);\n",
              "    box-shadow: none;\n",
              "  }\n",
              "\n",
              "  .colab-df-spinner {\n",
              "    border: 2px solid var(--fill-color);\n",
              "    border-color: transparent;\n",
              "    border-bottom-color: var(--fill-color);\n",
              "    animation:\n",
              "      spin 1s steps(1) infinite;\n",
              "  }\n",
              "\n",
              "  @keyframes spin {\n",
              "    0% {\n",
              "      border-color: transparent;\n",
              "      border-bottom-color: var(--fill-color);\n",
              "      border-left-color: var(--fill-color);\n",
              "    }\n",
              "    20% {\n",
              "      border-color: transparent;\n",
              "      border-left-color: var(--fill-color);\n",
              "      border-top-color: var(--fill-color);\n",
              "    }\n",
              "    30% {\n",
              "      border-color: transparent;\n",
              "      border-left-color: var(--fill-color);\n",
              "      border-top-color: var(--fill-color);\n",
              "      border-right-color: var(--fill-color);\n",
              "    }\n",
              "    40% {\n",
              "      border-color: transparent;\n",
              "      border-right-color: var(--fill-color);\n",
              "      border-top-color: var(--fill-color);\n",
              "    }\n",
              "    60% {\n",
              "      border-color: transparent;\n",
              "      border-right-color: var(--fill-color);\n",
              "    }\n",
              "    80% {\n",
              "      border-color: transparent;\n",
              "      border-right-color: var(--fill-color);\n",
              "      border-bottom-color: var(--fill-color);\n",
              "    }\n",
              "    90% {\n",
              "      border-color: transparent;\n",
              "      border-bottom-color: var(--fill-color);\n",
              "    }\n",
              "  }\n",
              "</style>\n",
              "\n",
              "  <script>\n",
              "    async function quickchart(key) {\n",
              "      const quickchartButtonEl =\n",
              "        document.querySelector('#' + key + ' button');\n",
              "      quickchartButtonEl.disabled = true;  // To prevent multiple clicks.\n",
              "      quickchartButtonEl.classList.add('colab-df-spinner');\n",
              "      try {\n",
              "        const charts = await google.colab.kernel.invokeFunction(\n",
              "            'suggestCharts', [key], {});\n",
              "      } catch (error) {\n",
              "        console.error('Error during call to suggestCharts:', error);\n",
              "      }\n",
              "      quickchartButtonEl.classList.remove('colab-df-spinner');\n",
              "      quickchartButtonEl.classList.add('colab-df-quickchart-complete');\n",
              "    }\n",
              "    (() => {\n",
              "      let quickchartButtonEl =\n",
              "        document.querySelector('#df-a5901f27-e252-40df-b03b-ce394128033b button');\n",
              "      quickchartButtonEl.style.display =\n",
              "        google.colab.kernel.accessAllowed ? 'block' : 'none';\n",
              "    })();\n",
              "  </script>\n",
              "</div>\n",
              "\n",
              "  <div id=\"id_ecd2d976-8646-43fa-b2fc-9569cfe6f003\">\n",
              "    <style>\n",
              "      .colab-df-generate {\n",
              "        background-color: #E8F0FE;\n",
              "        border: none;\n",
              "        border-radius: 50%;\n",
              "        cursor: pointer;\n",
              "        display: none;\n",
              "        fill: #1967D2;\n",
              "        height: 32px;\n",
              "        padding: 0 0 0 0;\n",
              "        width: 32px;\n",
              "      }\n",
              "\n",
              "      .colab-df-generate:hover {\n",
              "        background-color: #E2EBFA;\n",
              "        box-shadow: 0px 1px 2px rgba(60, 64, 67, 0.3), 0px 1px 3px 1px rgba(60, 64, 67, 0.15);\n",
              "        fill: #174EA6;\n",
              "      }\n",
              "\n",
              "      [theme=dark] .colab-df-generate {\n",
              "        background-color: #3B4455;\n",
              "        fill: #D2E3FC;\n",
              "      }\n",
              "\n",
              "      [theme=dark] .colab-df-generate:hover {\n",
              "        background-color: #434B5C;\n",
              "        box-shadow: 0px 1px 3px 1px rgba(0, 0, 0, 0.15);\n",
              "        filter: drop-shadow(0px 1px 2px rgba(0, 0, 0, 0.3));\n",
              "        fill: #FFFFFF;\n",
              "      }\n",
              "    </style>\n",
              "    <button class=\"colab-df-generate\" onclick=\"generateWithVariable('nba')\"\n",
              "            title=\"Generate code using this dataframe.\"\n",
              "            style=\"display:none;\">\n",
              "\n",
              "  <svg xmlns=\"http://www.w3.org/2000/svg\" height=\"24px\"viewBox=\"0 0 24 24\"\n",
              "       width=\"24px\">\n",
              "    <path d=\"M7,19H8.4L18.45,9,17,7.55,7,17.6ZM5,21V16.75L18.45,3.32a2,2,0,0,1,2.83,0l1.4,1.43a1.91,1.91,0,0,1,.58,1.4,1.91,1.91,0,0,1-.58,1.4L9.25,21ZM18.45,9,17,7.55Zm-12,3A5.31,5.31,0,0,0,4.9,8.1,5.31,5.31,0,0,0,1,6.5,5.31,5.31,0,0,0,4.9,4.9,5.31,5.31,0,0,0,6.5,1,5.31,5.31,0,0,0,8.1,4.9,5.31,5.31,0,0,0,12,6.5,5.46,5.46,0,0,0,6.5,12Z\"/>\n",
              "  </svg>\n",
              "    </button>\n",
              "    <script>\n",
              "      (() => {\n",
              "      const buttonEl =\n",
              "        document.querySelector('#id_ecd2d976-8646-43fa-b2fc-9569cfe6f003 button.colab-df-generate');\n",
              "      buttonEl.style.display =\n",
              "        google.colab.kernel.accessAllowed ? 'block' : 'none';\n",
              "\n",
              "      buttonEl.onclick = () => {\n",
              "        google.colab.notebook.generateWithVariable('nba');\n",
              "      }\n",
              "      })();\n",
              "    </script>\n",
              "  </div>\n",
              "\n",
              "    </div>\n",
              "  </div>\n"
            ],
            "application/vnd.google.colaboratory.intrinsic+json": {
              "type": "dataframe",
              "variable_name": "nba",
              "summary": "{\n  \"name\": \"nba\",\n  \"rows\": 381,\n  \"fields\": [\n    {\n      \"column\": \"Player\",\n      \"properties\": {\n        \"dtype\": \"string\",\n        \"num_unique_values\": 381,\n        \"samples\": [\n          \"Th\\u00e9o Maledon\",\n          \"Jimmy Butler\",\n          \"Jalen McDaniels\"\n        ],\n        \"semantic_type\": \"\",\n        \"description\": \"\"\n      }\n    },\n    {\n      \"column\": \"Position\",\n      \"properties\": {\n        \"dtype\": \"category\",\n        \"num_unique_values\": 5,\n        \"samples\": [\n          \"SG\",\n          \"SF\",\n          \"C\"\n        ],\n        \"semantic_type\": \"\",\n        \"description\": \"\"\n      }\n    },\n    {\n      \"column\": \"Team\",\n      \"properties\": {\n        \"dtype\": \"category\",\n        \"num_unique_values\": 30,\n        \"samples\": [\n          \"Toronto Raptors\",\n          \"Miami Heat\",\n          \"Phoenix Suns\"\n        ],\n        \"semantic_type\": \"\",\n        \"description\": \"\"\n      }\n    },\n    {\n      \"column\": \"Salary\",\n      \"properties\": {\n        \"dtype\": \"number\",\n        \"std\": 9712417,\n        \"min\": 111457,\n        \"max\": 45780966,\n        \"num_unique_values\": 271,\n        \"samples\": [\n          29900000,\n          1498955,\n          8292683\n        ],\n        \"semantic_type\": \"\",\n        \"description\": \"\"\n      }\n    }\n  ]\n}"
            }
          },
          "metadata": {},
          "execution_count": 7
        }
      ],
      "source": [
        "nba = pd.read_csv(data('nba-2022.csv'))\n",
        "nba = nba.set_index('Player')\n",
        "nba"
      ]
    },
    {
      "cell_type": "markdown",
      "metadata": {
        "id": "_-6_ZEjf_kzg"
      },
      "source": [
        "### What questions can we answer with this data?"
      ]
    },
    {
      "cell_type": "markdown",
      "metadata": {
        "id": "4mHC87RjSOAC"
      },
      "source": [
        "Fill this cell in with your questions"
      ]
    },
    {
      "cell_type": "markdown",
      "metadata": {
        "id": "MDtSuT7VSOAD"
      },
      "source": [
        "### Subsetting"
      ]
    },
    {
      "cell_type": "code",
      "execution_count": null,
      "metadata": {
        "id": "4O4rcHR3SOAD"
      },
      "outputs": [],
      "source": []
    },
    {
      "cell_type": "markdown",
      "metadata": {
        "id": "DVUU6oOkKss9"
      },
      "source": [
        "### Filtering"
      ]
    },
    {
      "cell_type": "code",
      "execution_count": null,
      "metadata": {
        "id": "KT8zElQ6SOAD"
      },
      "outputs": [],
      "source": []
    },
    {
      "cell_type": "markdown",
      "metadata": {
        "id": "fBSg5qS9_kzh"
      },
      "source": [
        "### Aggregating: Dog Breed Data"
      ]
    },
    {
      "cell_type": "markdown",
      "metadata": {
        "id": "7HmRaviA_kzi"
      },
      "source": [
        "Fill this cell in with your questions."
      ]
    },
    {
      "cell_type": "code",
      "execution_count": null,
      "metadata": {
        "id": "_0A6NcQJ_kzj"
      },
      "outputs": [],
      "source": [
        "dogs = pd.read_csv(data('dogs43.csv'))\n",
        "dogs"
      ]
    },
    {
      "cell_type": "markdown",
      "metadata": {
        "id": "zqLWN1OW_kzk"
      },
      "source": [
        "### Putting it all Together: Baby Names\n",
        "\n",
        "#### Lilith, Lilibet … Lucifer? How Baby Names Went to ‘L’\n",
        "\n",
        "https://archive.is/NpORG"
      ]
    },
    {
      "cell_type": "markdown",
      "metadata": {
        "id": "lOy4CCM2_kzl"
      },
      "source": [
        "### What are the claims made in the article?"
      ]
    },
    {
      "cell_type": "markdown",
      "metadata": {
        "id": "322K-38bSOAD"
      },
      "source": [
        "Fill in this cell with your answers."
      ]
    },
    {
      "cell_type": "code",
      "execution_count": null,
      "metadata": {
        "id": "tCqjfvQx_kzm"
      },
      "outputs": [],
      "source": [
        "baby = pd.read_csv(data('babynames.csv'))\n",
        "baby"
      ]
    },
    {
      "cell_type": "code",
      "execution_count": null,
      "metadata": {
        "id": "KhkWdsyx_kzo"
      },
      "outputs": [],
      "source": [
        "nyt = pd.read_csv(data('nyt_names.csv'))\n",
        "nyt"
      ]
    },
    {
      "cell_type": "markdown",
      "metadata": {
        "id": "ANz_K8Ta_kzp"
      },
      "source": [
        "### Recap: Data table manipulation"
      ]
    },
    {
      "cell_type": "markdown",
      "metadata": {
        "id": "KNOONxDSSOAD"
      },
      "source": [
        "Fill in this cell with your notes."
      ]
    },
    {
      "cell_type": "markdown",
      "metadata": {
        "id": "9MEp0SIdSOAE"
      },
      "source": [
        "## Data Cleaning"
      ]
    },
    {
      "cell_type": "markdown",
      "metadata": {
        "id": "SrqgYDciSOAE"
      },
      "source": [
        "### CO2 Measurements on Mauna Loa\n",
        "\n",
        "www.esrl.noaa.gov/gmd/ccgg/trends/"
      ]
    },
    {
      "cell_type": "code",
      "execution_count": null,
      "metadata": {
        "id": "yeBQK46ISOAE"
      },
      "outputs": [],
      "source": [
        "!wget --output-document \"co2_mm_mlo.txt\" \"https://github.com/DS-100/textbook/blob/master/content/datasets/co2_mm_mlo.txt?raw=true\" 2> /dev/null"
      ]
    },
    {
      "cell_type": "code",
      "execution_count": null,
      "metadata": {
        "id": "Z3pM-O_iSOAE"
      },
      "outputs": [],
      "source": [
        "!head co2_mm_mlo.txt"
      ]
    },
    {
      "cell_type": "code",
      "execution_count": null,
      "metadata": {
        "id": "UGrWdcxuSOAE"
      },
      "outputs": [],
      "source": [
        "from pathlib import Path\n",
        "\n",
        "lines = Path('co2_mm_mlo.txt').read_text().split('\\n')\n",
        "len(lines)"
      ]
    },
    {
      "cell_type": "code",
      "execution_count": null,
      "metadata": {
        "id": "imOWWx6sSOAE"
      },
      "outputs": [],
      "source": [
        "lines[:6]"
      ]
    },
    {
      "cell_type": "code",
      "execution_count": null,
      "metadata": {
        "id": "gCMpOaekSOAE"
      },
      "outputs": [],
      "source": [
        "lines[69:79]"
      ]
    },
    {
      "cell_type": "code",
      "execution_count": null,
      "metadata": {
        "id": "IyyAI6fTSOAE"
      },
      "outputs": [],
      "source": [
        "..."
      ]
    },
    {
      "cell_type": "markdown",
      "metadata": {
        "id": "BEDU9AfGSOAE"
      },
      "source": [
        "### Missing Data"
      ]
    },
    {
      "cell_type": "code",
      "execution_count": null,
      "metadata": {
        "id": "CChI0VlmSOAE"
      },
      "outputs": [],
      "source": [
        "..."
      ]
    },
    {
      "cell_type": "code",
      "execution_count": null,
      "metadata": {
        "id": "2aVM79HfSOAE"
      },
      "outputs": [],
      "source": [
        "..."
      ]
    },
    {
      "cell_type": "markdown",
      "metadata": {
        "id": "jxTk63tQSOAE"
      },
      "source": [
        "### You Try:\n",
        "\n",
        "Get all the recordings with missing CO2 data (where the Avg column is less than 0)"
      ]
    },
    {
      "cell_type": "code",
      "execution_count": null,
      "metadata": {
        "id": "oesQJ8--SOAE"
      },
      "outputs": [],
      "source": [
        "..."
      ]
    },
    {
      "cell_type": "code",
      "execution_count": null,
      "metadata": {
        "id": "gtz6pE6DSOAH"
      },
      "outputs": [],
      "source": [
        "# Don't worry about understanding this code for now, just look at the plots\n",
        "from plotly.subplots import make_subplots\n",
        "import plotly.graph_objects as go\n",
        "\n",
        "fig = make_subplots(rows=1, cols=3,\n",
        "    subplot_titles=(\"Missing Dropped\",\n",
        "                    \"Missing Set to NaN\", \"Missing Interpolated\"))\n",
        "\n",
        "co2_small = (co2[co2['Avg'] > 0])[:8]\n",
        "\n",
        "fig.add_trace(\n",
        "    go.Scatter(x=co2_small['Mo'], y=co2_small['Avg'],\n",
        "               mode='lines+markers'),\n",
        "    row=1, col=1)\n",
        "\n",
        "co2_na = (co2.replace(-99.99, np.NaN))[:10]\n",
        "\n",
        "fig.add_trace(\n",
        "    go.Scatter(x=co2_na['Mo'], y=co2_na['Avg'], mode='lines+markers'),\n",
        "    row=1, col=2)\n",
        "\n",
        "fig.add_trace(\n",
        "    go.Scatter(x=co2_na['Mo'], y=co2_na['Int'], mode='lines+markers'),\n",
        "    row=1, col=3)\n",
        "\n",
        "fig.update_xaxes(tickvals = np.arange(3, 13, 1), row=1, col=1)\n",
        "fig.update_xaxes(tickvals = np.arange(3, 13, 1), row=1, col=2)\n",
        "fig.update_xaxes(tickvals = np.arange(3, 13, 1), row=1, col=3)\n",
        "\n",
        "fig.update_layout(height=350, margin=dict(t=30, b=0), showlegend=False)\n",
        "\n",
        "fig.show()"
      ]
    },
    {
      "cell_type": "markdown",
      "metadata": {
        "id": "osIW3g_rSOAI"
      },
      "source": [
        "### Granularity"
      ]
    },
    {
      "cell_type": "code",
      "execution_count": null,
      "metadata": {
        "id": "-KmaNaH8SOAI"
      },
      "outputs": [],
      "source": [
        "co2"
      ]
    },
    {
      "cell_type": "markdown",
      "metadata": {
        "id": "uNZcho3_SOAI"
      },
      "source": [
        "#### You Try:\n",
        "\n",
        "Find the average CO2 for each year, then plot the CO2 vs. year"
      ]
    },
    {
      "cell_type": "code",
      "execution_count": null,
      "metadata": {
        "id": "sXqyhqjzSOAI"
      },
      "outputs": [],
      "source": [
        "..."
      ]
    },
    {
      "cell_type": "code",
      "execution_count": null,
      "metadata": {
        "id": "-asjUDbLSOAI"
      },
      "outputs": [],
      "source": [
        "fig = ...\n",
        "fig.update_layout(showlegend=False)\n",
        "fig"
      ]
    },
    {
      "cell_type": "markdown",
      "metadata": {
        "id": "LNNnuUxoSOAI"
      },
      "source": [
        "### Data Cleaning Principles"
      ]
    },
    {
      "cell_type": "markdown",
      "metadata": {
        "id": "_mDCldiDSOAI"
      },
      "source": [
        "Fill in this cell with your notes."
      ]
    },
    {
      "cell_type": "markdown",
      "metadata": {
        "id": "U_onR-cDSOAI"
      },
      "source": [
        "## Case Study: Restaurant Safety Violations"
      ]
    },
    {
      "cell_type": "markdown",
      "metadata": {
        "id": "JNUIRvYmSOAI"
      },
      "source": [
        "https://data.sfgov.org/Health-and-Social-Services/Restaurant-Scores-LIVES-Standard/pyih-qa8i"
      ]
    },
    {
      "cell_type": "code",
      "execution_count": null,
      "metadata": {
        "id": "NsPAAiNHSOAI"
      },
      "outputs": [],
      "source": [
        "# businesses\n",
        "bus = pd.read_csv(data('SF_Restaurant_Inspections/businesses.csv'), encoding='ISO-8859-1')\n",
        "\n",
        "# inspections\n",
        "insp = pd.read_csv(data('SF_Restaurant_Inspections/inspections.csv'))\n",
        "\n",
        "# violations\n",
        "viol = pd.read_csv(data('SF_Restaurant_Inspections/violations.csv'))"
      ]
    },
    {
      "cell_type": "code",
      "execution_count": null,
      "metadata": {
        "id": "ye9YHDowSOAI"
      },
      "outputs": [],
      "source": [
        "bus"
      ]
    },
    {
      "cell_type": "markdown",
      "metadata": {
        "id": "vL6kt1P1SOAI"
      },
      "source": [
        "### Check Data Quality"
      ]
    },
    {
      "cell_type": "markdown",
      "metadata": {
        "id": "zyAK1ecYSOAI"
      },
      "source": [
        "#### You Try:\n",
        "\n",
        "Write Python code to explore the `'postal_code'` column in `bus`. Find at least two issues."
      ]
    },
    {
      "cell_type": "code",
      "execution_count": null,
      "metadata": {
        "id": "EslxjwyTSOAI"
      },
      "outputs": [],
      "source": [
        "..."
      ]
    },
    {
      "cell_type": "code",
      "execution_count": null,
      "metadata": {
        "id": "CbBdYRaaSOAJ"
      },
      "outputs": [],
      "source": [
        "..."
      ]
    },
    {
      "cell_type": "code",
      "execution_count": null,
      "metadata": {
        "id": "ms4OGgFKSOAJ"
      },
      "outputs": [],
      "source": [
        "..."
      ]
    },
    {
      "cell_type": "code",
      "execution_count": null,
      "metadata": {
        "id": "c7WrCjsuSOAJ"
      },
      "outputs": [],
      "source": [
        "..."
      ]
    },
    {
      "cell_type": "markdown",
      "metadata": {
        "id": "oC3ZdMfjSOAJ"
      },
      "source": [
        "### Look for Missing Data"
      ]
    },
    {
      "cell_type": "markdown",
      "metadata": {
        "id": "o4U-PPQuSOAJ"
      },
      "source": [
        "#### You Try:\n",
        "\n",
        "How many rows in `bus` have missing values for `'postal_code'`?"
      ]
    },
    {
      "cell_type": "code",
      "execution_count": null,
      "metadata": {
        "id": "ESVwdXoRSOAJ"
      },
      "outputs": [],
      "source": [
        "..."
      ]
    },
    {
      "cell_type": "markdown",
      "metadata": {
        "id": "L26c8CLESOAJ"
      },
      "source": [
        "### Transform Data"
      ]
    },
    {
      "cell_type": "code",
      "execution_count": null,
      "metadata": {
        "id": "XZAqZuqxSOAJ"
      },
      "outputs": [],
      "source": [
        "insp"
      ]
    },
    {
      "cell_type": "markdown",
      "metadata": {
        "id": "-HDa8AuGSOAJ"
      },
      "source": [
        "https://docs.python.org/3/library/datetime.html#strftime-and-strptime-format-codes"
      ]
    },
    {
      "cell_type": "code",
      "execution_count": null,
      "metadata": {
        "id": "ug-CrdUWSOAJ"
      },
      "outputs": [],
      "source": [
        "dates = ...\n",
        "dates"
      ]
    },
    {
      "cell_type": "code",
      "execution_count": null,
      "metadata": {
        "id": "EE4e8luiSOAJ"
      },
      "outputs": [],
      "source": [
        "def parse_dates_and_years(df):\n",
        "    dates = pd.to_datetime(df['date'], format='%Y%m%d')\n",
        "    years = dates.dt.year\n",
        "    return df.assign(timestamp=dates, year=years)\n",
        "\n",
        "def subset_2016(df):\n",
        "    return df.query('year == 2016')\n",
        "\n",
        "# inspections\n",
        "ins2016 = (insp\n",
        "           .pipe(parse_dates_and_years)\n",
        "           .pipe(subset_2016))\n",
        "\n",
        "# violations\n",
        "vio2016 = (viol\n",
        "           .pipe(parse_dates_and_years)\n",
        "           .pipe(subset_2016))"
      ]
    },
    {
      "cell_type": "markdown",
      "metadata": {
        "id": "Rcs9b5B-SOAJ"
      },
      "source": [
        "#### You Try:\n",
        "\n",
        "Use `vio2016` to create a dataframe called `num_vios` that has one row per inspection. It should have three columns:\n",
        "\n",
        "- `business_id`: The business ID.\n",
        "- `timestamp`: The date of the inspection.\n",
        "- `num_vio`: The total number of violations the inspection recorded on that date.\n",
        "\n",
        "The resulting dataframe should have 4806 rows."
      ]
    },
    {
      "cell_type": "code",
      "execution_count": null,
      "metadata": {
        "id": "vKCuMiNsSOAJ"
      },
      "outputs": [],
      "source": [
        "..."
      ]
    },
    {
      "cell_type": "code",
      "execution_count": null,
      "metadata": {
        "id": "dCLNqlCpSOAJ"
      },
      "outputs": [],
      "source": [
        "ins_and_num_vios = ins2016.merge(num_vios, on=['business_id', 'timestamp'], how='left')\n",
        "ins_and_num_vios"
      ]
    },
    {
      "cell_type": "code",
      "execution_count": null,
      "metadata": {
        "id": "9h5oqihdSOAJ"
      },
      "outputs": [],
      "source": [
        "ins_and_num_vios['num_vio'].isnull().sum()"
      ]
    },
    {
      "cell_type": "code",
      "execution_count": null,
      "metadata": {
        "id": "Ao7IVQI3SOAJ"
      },
      "outputs": [],
      "source": [
        "px.box(ins_and_num_vios, x=\"num_vio\", y=\"score\")"
      ]
    },
    {
      "cell_type": "markdown",
      "metadata": {
        "id": "BxSORO3QSOAJ"
      },
      "source": [
        "### Do certain kinds of violations impact safety score more than others?"
      ]
    },
    {
      "cell_type": "code",
      "execution_count": null,
      "metadata": {
        "id": "xEXe1AQBSOAJ"
      },
      "outputs": [],
      "source": [
        "vio2016['description'].value_counts().head(15).to_frame()"
      ]
    },
    {
      "cell_type": "code",
      "execution_count": null,
      "metadata": {
        "id": "lSPI2yL2SOAK"
      },
      "outputs": [],
      "source": [
        "from IPython.display import display\n",
        "with pd.option_context(\"display.max_rows\", 15):\n",
        "    display(vio2016['description'].value_counts().head(15).to_frame())"
      ]
    },
    {
      "cell_type": "code",
      "execution_count": null,
      "metadata": {
        "id": "aziO-ZN6SOAK"
      },
      "outputs": [],
      "source": [
        "def make_vio_categories(vio):\n",
        "    def has(term):\n",
        "        return vio['description'].str.contains(term)\n",
        "\n",
        "    return vio[['business_id', 'timestamp']].assign(\n",
        "        high_risk        = has(r\"high risk\"),\n",
        "        clean            = has(r\"clean|sanit\"),\n",
        "        food_surface     = (has(r\"surface\") & has(r\"\\Wfood\")),\n",
        "        vermin           = has(r\"vermin\"),\n",
        "        storage          = has(r\"thaw|cool|therm|storage\"),\n",
        "        permit           = has(r\"certif|permit\"),\n",
        "        non_food_surface = has(r\"wall|ceiling|floor|surface\"),\n",
        "        human            = has(r\"hand|glove|hair|nail\"),\n",
        "    )"
      ]
    },
    {
      "cell_type": "code",
      "execution_count": null,
      "metadata": {
        "id": "t6Q1iHhZSOAK"
      },
      "outputs": [],
      "source": [
        "# The violations with the new categories.\n",
        "# `vio_ctg` is short for `violation categories`.\n",
        "vio_ctg = vio2016.pipe(make_vio_categories)\n",
        "vio_ctg"
      ]
    },
    {
      "cell_type": "code",
      "execution_count": null,
      "metadata": {
        "id": "Tb111A95SOAK"
      },
      "outputs": [],
      "source": [
        "# Need to change granularity\n",
        "vio_counts = vio_ctg.groupby(['business_id', 'timestamp']).sum().reset_index()\n",
        "vio_counts"
      ]
    },
    {
      "cell_type": "code",
      "execution_count": null,
      "metadata": {
        "id": "i41wBodJSOAK"
      },
      "outputs": [],
      "source": [
        "feature_names = ['high_risk', 'clean', 'food_surface', 'vermin',\n",
        "                 'storage', 'permit', 'non_food_surface', 'human']\n",
        "\n",
        "def left_join_features(ins):\n",
        "    return (ins[['business_id', 'timestamp', 'score']]\n",
        "            .merge(vio_counts, on=['business_id', 'timestamp'], how='left'))\n",
        "\n",
        "def zero_features_for_perfect_scores(ins):\n",
        "    ins = ins.copy()\n",
        "    ins.loc[ins['score'] == 100, feature_names] = 0\n",
        "    return ins"
      ]
    },
    {
      "cell_type": "code",
      "execution_count": null,
      "metadata": {
        "id": "ShhAnNtkSOAK"
      },
      "outputs": [],
      "source": [
        "ins_and_vios = (ins2016.pipe(left_join_features)\n",
        "                .pipe(zero_features_for_perfect_scores))\n",
        "ins_and_vios.head(3)"
      ]
    },
    {
      "cell_type": "code",
      "execution_count": null,
      "metadata": {
        "id": "iFqbF_7dSOAK"
      },
      "outputs": [],
      "source": [
        "..."
      ]
    },
    {
      "cell_type": "code",
      "execution_count": null,
      "metadata": {
        "id": "-asAfPygSOAK"
      },
      "outputs": [],
      "source": [
        "..."
      ]
    }
  ],
  "metadata": {
    "kernelspec": {
      "display_name": "Python 3 (ipykernel)",
      "language": "python",
      "name": "python3"
    },
    "language_info": {
      "codemirror_mode": {
        "name": "ipython",
        "version": 3
      },
      "file_extension": ".py",
      "mimetype": "text/x-python",
      "name": "python",
      "nbconvert_exporter": "python",
      "pygments_lexer": "ipython3",
      "version": "3.12.7"
    },
    "colab": {
      "provenance": [],
      "include_colab_link": true
    }
  },
  "nbformat": 4,
  "nbformat_minor": 0
}